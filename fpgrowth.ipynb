{
  "nbformat": 4,
  "nbformat_minor": 0,
  "metadata": {
    "colab": {
      "provenance": [],
      "collapsed_sections": [
        "b0tHxHZHANU7"
      ]
    },
    "kernelspec": {
      "name": "python3",
      "display_name": "Python 3"
    },
    "language_info": {
      "name": "python"
    }
  },
  "cells": [
    {
      "cell_type": "code",
      "source": [
        "from google.colab import drive\n",
        "drive.mount('/content/drive/')"
      ],
      "metadata": {
        "colab": {
          "base_uri": "https://localhost:8080/"
        },
        "id": "x6ll1bkgap_M",
        "outputId": "d0eb4cd8-9f91-4371-decb-f843c6418691"
      },
      "execution_count": null,
      "outputs": [
        {
          "output_type": "stream",
          "name": "stdout",
          "text": [
            "Mounted at /content/drive/\n"
          ]
        }
      ]
    },
    {
      "cell_type": "markdown",
      "source": [
        "#Main"
      ],
      "metadata": {
        "id": "b0tHxHZHANU7"
      }
    },
    {
      "cell_type": "code",
      "source": [
        "from collections import defaultdict\n",
        "from math import ceil\n",
        "from time import time\n",
        "\n",
        "class Node:\n",
        "  def __init__(self, *args, **kwargs):\n",
        "    self.pattern = kwargs['pattern']\n",
        "    self.frequency = kwargs['frequency']\n",
        "    self.parent = kwargs['parent']\n",
        "    self.children = []\n",
        "\n",
        "  def __str__(self):\n",
        "    self.show()\n",
        "    return ''\n",
        "\n",
        "  def show(self):\n",
        "    if self.pattern:\n",
        "      print(self.pattern, end='')\n",
        "      print(' : ', end='')\n",
        "      print(self.frequency)\n",
        "    else:\n",
        "      print('root')\n",
        "\n",
        "    if self.children:\n",
        "      for child in self.children[:-1]:\n",
        "        self.__elegant_print(child, '', '├──')\n",
        "\n",
        "      self.__elegant_print(self.children[-1], '', '└──')\n",
        "\n",
        "\n",
        "\n",
        "  def __elegant_print(self, node, prefix, symbol):\n",
        "    print(prefix + symbol + ' ', end='')\n",
        "    print(node.pattern, end='')\n",
        "    print(\" : \", end='')\n",
        "    print(node.frequency)\n",
        "\n",
        "    if node.children:\n",
        "      for child in node.children[:-1]:\n",
        "        self.__elegant_print(child, prefix + \"│\\t\" if symbol == '├──' else prefix + ' \\t', '├──')\n",
        "\n",
        "      self.__elegant_print(node.children[-1], prefix + \"│\\t\" if symbol == '├──' else prefix + ' \\t', '└──')\n",
        "\n",
        "  def add_children(self, child):\n",
        "    self.children.append(child)\n",
        "\n",
        "\n",
        "class FPgrowth:\n",
        "  def __init__(self, *args, **kwargs):\n",
        "    self.path = kwargs['path']\n",
        "    self.root = Node(pattern=(), frequency=None, parent=None)\n",
        "    self.header, self.order, self.total = self.__header_table()\n",
        "    self.__build_tree()\n",
        "\n",
        "  def print(self):\n",
        "    self.root.show()\n",
        "\n",
        "  def __custom_sort_key(self, item):\n",
        "    if item in self.order:\n",
        "        return self.order.index(item)\n",
        "    else:\n",
        "        return len(self.order)\n",
        "\n",
        "\n",
        "  def __header_table(self):\n",
        "    temp = defaultdict(int)\n",
        "    count = 0\n",
        "    with open(self.path, 'r') as f:\n",
        "      for line in f:\n",
        "        count += 1\n",
        "        transactions = sorted(line.split())\n",
        "        for i in transactions:\n",
        "          temp[i] += 1\n",
        "\n",
        "    return dict(sorted(temp.items(), key=lambda x:x[1],reverse = True)[::-1]), [i[0] for i in sorted(temp.items(), key=lambda x:x[1], reverse=True)], count\n",
        "\n",
        "\n",
        "  def __build_tree(self):\n",
        "    # print('Transactions:')\n",
        "    with open(self.path, 'r') as f:\n",
        "      for line in f:\n",
        "        # print(line, end='')\n",
        "        current = self.root\n",
        "\n",
        "        for i in sorted(line.split(), key=self.__custom_sort_key):\n",
        "          found = False\n",
        "\n",
        "          for child in current.children:\n",
        "            if child.pattern == i:\n",
        "              child.frequency += 1\n",
        "              current = child\n",
        "              found = True\n",
        "              break\n",
        "\n",
        "          if not found:\n",
        "            temp = Node(pattern=i, frequency=1, parent=current)\n",
        "            current.add_children(temp)\n",
        "            current = temp\n",
        "\n",
        "    return self.root\n",
        "\n",
        "\n",
        "  def mine(self, *args, **kwargs):\n",
        "    self.frequent_patterns = defaultdict(int)\n",
        "    self.threshold = ceil(self.total*kwargs['threshold'])\n",
        "    print(f\"total transactions {self.total}\")\n",
        "    print(f\"threshold {self.threshold}\")\n",
        "\n",
        "    start = time()\n",
        "    self.__get_frequent_patterns(self.header, self.root)\n",
        "    end = time()\n",
        "\n",
        "    print()\n",
        "    print(f\"completed in {end-start} secs\")\n",
        "\n",
        "  def __get_frequent_patterns(self, header, tree):\n",
        "    for item in header:\n",
        "      if header[item] >= self.threshold:\n",
        "        self.frequent_patterns[tree.pattern + (item,)] = header[item]\n",
        "        # print(item)\n",
        "\n",
        "        cond_transactions = self.__get_conditional_transactions(tree, item)\n",
        "        # print(cond_transactions)\n",
        "        if cond_transactions:\n",
        "          # cond_header = self.__get_conditional_header(cond_transactions)\n",
        "          # print(cond_header)\n",
        "          cond_header, cond_tree = self.__get_conditional_tree(cond_transactions, Node(pattern=tree.pattern+(item,), frequency=header[item], parent=None))\n",
        "          # cond_tree.show()\n",
        "          print(cond_header)\n",
        "          self.__get_frequent_patterns(cond_header, cond_tree)\n",
        "      # print()\n",
        "\n",
        "  def __get_conditional_transactions(self, tree, item):\n",
        "    queue = [tree]\n",
        "    path_list = []\n",
        "\n",
        "    while queue:\n",
        "      current = queue.pop(0)\n",
        "      for child in current.children:\n",
        "        if child.pattern == item:\n",
        "          path = self.__get_path(current,[])\n",
        "          if path:\n",
        "            for i in range(child.frequency):\n",
        "              path_list.append(path)\n",
        "        else:\n",
        "          queue.append(child)\n",
        "\n",
        "    return path_list\n",
        "\n",
        "  def __get_path(self, tree, path):\n",
        "    if not tree.parent:\n",
        "      return path\n",
        "\n",
        "    path.append(tree.pattern)\n",
        "    return self.__get_path(tree.parent, path)\n",
        "\n",
        "\n",
        "  def __get_conditional_header(self, transactions):\n",
        "    temp = defaultdict(int)\n",
        "    for line in transactions:\n",
        "      for i in line:\n",
        "        temp[i] += 1\n",
        "\n",
        "    return dict(sorted(temp.items(), key=lambda x:x[1],reverse = True)[::-1])\n",
        "\n",
        "\n",
        "  def __get_conditional_tree(self, transactions, root):\n",
        "    temp_header = defaultdict(int)\n",
        "    for line in transactions:\n",
        "      current = root\n",
        "      # print(line)\n",
        "      for i in sorted(line, key=self.__custom_sort_key):\n",
        "        # print(type(i))\n",
        "        temp_header[i] += 1\n",
        "        found = False\n",
        "\n",
        "        for child in current.children:\n",
        "          if child.pattern == i:\n",
        "            child.frequency += 1\n",
        "            current = child\n",
        "            found = True\n",
        "            break\n",
        "\n",
        "        if not found:\n",
        "          temp = Node(pattern=i, frequency=1, parent=current)\n",
        "          current.add_children(temp)\n",
        "          current = temp\n",
        "\n",
        "    return dict(sorted(temp_header.items(), key=lambda x:x[1],reverse = True)[::-1]), root\n",
        "\n",
        "  def count_frequent_pattern(self):\n",
        "    print()\n",
        "    print(f\"lengthwise frequent pattern count for threshold {self.threshold}\")\n",
        "    sorted_patterns = defaultdict(list)\n",
        "    for pattern in self.frequent_patterns:\n",
        "      sorted_patterns[len(pattern)].append((tuple(sorted(pattern)), self.frequent_patterns[pattern]))\n",
        "\n",
        "    for i in sorted(sorted_patterns):\n",
        "      print(f\"length {i} : {len(sorted_patterns[i])}\")\n",
        "\n",
        "\n",
        "  def show_frequent_patterns(self, *args, **kwargs):\n",
        "    sorted_patterns = defaultdict(list)\n",
        "    for pattern in self.frequent_patterns:\n",
        "      sorted_patterns[len(pattern)].append((tuple(sorted(pattern)), self.frequent_patterns[pattern]))\n",
        "\n",
        "    if not args:\n",
        "      for i in sorted_patterns:\n",
        "        sorted_patterns[i].sort()\n",
        "        for pattern, frequency in sorted_patterns[i]:\n",
        "          print(pattern, end=' : ')\n",
        "          print(frequency)\n",
        "    else:\n",
        "      for i in args:\n",
        "        for pattern, frequency in sorted_patterns[i]:\n",
        "          print(pattern, end=' : ')\n",
        "          print(frequency)"
      ],
      "metadata": {
        "id": "RkjIsb8v6Phf"
      },
      "execution_count": null,
      "outputs": []
    },
    {
      "cell_type": "markdown",
      "source": [
        "##chess"
      ],
      "metadata": {
        "id": "bW3Y0NjNsfWM"
      }
    },
    {
      "cell_type": "code",
      "source": [
        "chess = FPgrowth(path='/content/drive/MyDrive/cse477/chess.dat.txt')"
      ],
      "metadata": {
        "id": "QcLdFGESsOOT"
      },
      "execution_count": null,
      "outputs": []
    },
    {
      "cell_type": "code",
      "source": [
        "chess.mine(threshold=0.9)\n",
        "chess.count_frequent_pattern()"
      ],
      "metadata": {
        "colab": {
          "base_uri": "https://localhost:8080/"
        },
        "id": "HfL-O8cvVwy8",
        "outputId": "f89c6473-ecf2-46f3-aa05-f2d92522587a"
      },
      "execution_count": null,
      "outputs": [
        {
          "output_type": "stream",
          "name": "stdout",
          "text": [
            "total transactions 3196\n",
            "threshold 2877\n",
            "\n",
            "completed in 1.6963958740234375 secs\n",
            "\n",
            "lengthwise frequent pattern count for threshold 2877\n",
            "length 1 : 13\n",
            "length 2 : 68\n",
            "length 3 : 167\n",
            "length 4 : 203\n",
            "length 5 : 128\n",
            "length 6 : 39\n",
            "length 7 : 4\n"
          ]
        }
      ]
    },
    {
      "cell_type": "code",
      "source": [
        "chess.mine(threshold=0.8)\n",
        "chess.count_frequent_pattern()"
      ],
      "metadata": {
        "colab": {
          "base_uri": "https://localhost:8080/"
        },
        "id": "XLCho36Tn9UL",
        "outputId": "added54f-73c5-4e53-9a09-fd16012bfe92"
      },
      "execution_count": null,
      "outputs": [
        {
          "output_type": "stream",
          "name": "stdout",
          "text": [
            "total transactions 3196\n",
            "threshold 2557\n",
            "\n",
            "completed in 22.06865382194519 secs\n",
            "\n",
            "lengthwise frequent pattern count for threshold 2557\n",
            "length 1 : 19\n",
            "length 2 : 141\n",
            "length 3 : 566\n",
            "length 4 : 1383\n",
            "length 5 : 2130\n",
            "length 6 : 2104\n",
            "length 7 : 1314\n",
            "length 8 : 481\n",
            "length 9 : 85\n",
            "length 10 : 4\n"
          ]
        }
      ]
    },
    {
      "cell_type": "code",
      "source": [
        "chess.mine(threshold=0.7)\n",
        "chess.count_frequent_pattern()"
      ],
      "metadata": {
        "colab": {
          "base_uri": "https://localhost:8080/"
        },
        "id": "im2R3hccn-hS",
        "outputId": "86721349-d901-4d83-d031-56053893bf0f"
      },
      "execution_count": null,
      "outputs": [
        {
          "output_type": "stream",
          "name": "stdout",
          "text": [
            "total transactions 3196\n",
            "threshold 2238\n",
            "\n",
            "completed in 112.72999906539917 secs\n",
            "\n",
            "lengthwise frequent pattern count for threshold 2238\n",
            "length 1 : 24\n",
            "length 2 : 238\n",
            "length 3 : 1237\n",
            "length 4 : 3857\n",
            "length 5 : 7891\n",
            "length 6 : 11125\n",
            "length 7 : 11113\n",
            "length 8 : 7916\n",
            "length 9 : 3895\n",
            "length 10 : 1216\n",
            "length 11 : 204\n",
            "length 12 : 14\n",
            "length 13 : 1\n"
          ]
        }
      ]
    },
    {
      "cell_type": "code",
      "source": [
        "chess.mine(threshold=0.6)\n",
        "chess.count_frequent_pattern()"
      ],
      "metadata": {
        "id": "x2jD5RIpoAlb",
        "colab": {
          "base_uri": "https://localhost:8080/"
        },
        "outputId": "1c49330d-d709-4e28-b228-2d668c75f5e9"
      },
      "execution_count": null,
      "outputs": [
        {
          "output_type": "stream",
          "name": "stdout",
          "text": [
            "total transactions 3196\n",
            "threshold 1918\n",
            "\n",
            "completed in 507.0605103969574 secs\n",
            "\n",
            "lengthwise frequent pattern count for threshold 1918\n",
            "length 1 : 34\n",
            "length 2 : 389\n",
            "length 3 : 2325\n",
            "length 4 : 8831\n",
            "length 5 : 23155\n",
            "length 6 : 43106\n",
            "length 7 : 57479\n",
            "length 8 : 55062\n",
            "length 9 : 37876\n",
            "length 10 : 18607\n",
            "length 11 : 6419\n",
            "length 12 : 1466\n",
            "length 13 : 187\n",
            "length 14 : 8\n"
          ]
        }
      ]
    },
    {
      "cell_type": "markdown",
      "source": [
        "###plot"
      ],
      "metadata": {
        "id": "Sd5s-JLBE-1b"
      }
    },
    {
      "cell_type": "code",
      "source": [
        "import matplotlib.pyplot as plt\n",
        "import numpy as np\n",
        "\n",
        "# Data for frequent pattern counts at different threshold percentages\n",
        "thresholds = [90, 80, 70, 60]\n",
        "max_length = 14  # Maximum pattern length\n",
        "lengths = list(range(1, max_length + 1))\n",
        "\n",
        "frequent_pattern_counts = {\n",
        "    90: [13, 68, 167, 203, 128, 39, 4],\n",
        "    80: [19, 141, 566, 1383, 2130, 2104, 1314, 481, 85, 4],\n",
        "    70: [24, 238, 1237, 3857, 7891, 11125, 11113, 7916, 3895, 1216, 204, 14, 1],\n",
        "    60: [34, 389, 2325, 8831, 23155, 43106, 57479, 55062, 37876, 18607, 6419, 1466, 187, 8]\n",
        "}\n",
        "\n",
        "# Fill up the lists with zeros to match the maximum length\n",
        "for threshold in thresholds:\n",
        "    while len(frequent_pattern_counts[threshold]) < max_length:\n",
        "        frequent_pattern_counts[threshold].append(0)\n",
        "\n",
        "# Create a bar plot\n",
        "bar_width = 0.2\n",
        "index = np.arange(max_length)\n",
        "colors = ['b', 'g', 'r', 'c']\n",
        "\n",
        "plt.figure(figsize=(12, 6))\n",
        "\n",
        "for i, threshold in enumerate(thresholds):\n",
        "    plt.bar(index + i * bar_width, frequent_pattern_counts[threshold], bar_width, label=f\"{threshold}%\", color=colors[i])\n",
        "\n",
        "plt.xlabel(\"Pattern Length\")\n",
        "plt.ylabel(\"Frequent Pattern Count\")\n",
        "plt.title(\"Frequent Pattern Count vs. Pattern Length for Different Threshold Percentages (Chess Dataset)\")\n",
        "plt.xticks(index + bar_width * (len(thresholds) - 1) / 2, lengths)\n",
        "plt.legend(title=\"Threshold\")\n",
        "plt.grid(axis='y', linestyle='--', alpha=0.7)\n",
        "\n",
        "plt.show()"
      ],
      "metadata": {
        "colab": {
          "base_uri": "https://localhost:8080/",
          "height": 564
        },
        "id": "Z4XBXqyLFV1a",
        "outputId": "3a63494b-3b6e-479f-8cad-b87e2c94fe01"
      },
      "execution_count": null,
      "outputs": [
        {
          "output_type": "display_data",
          "data": {
            "text/plain": [
              "<Figure size 1200x600 with 1 Axes>"
            ],
            "image/png": "[encoded data removed]"
          },
          "metadata": {}
        }
      ]
    },
    {
      "cell_type": "markdown",
      "source": [
        "##mushroom"
      ],
      "metadata": {
        "id": "n4BdOSksoT90"
      }
    },
    {
      "cell_type": "code",
      "source": [
        "mushroom = FPgrowth(path='/content/drive/MyDrive/cse477/mushroom.dat')"
      ],
      "metadata": {
        "id": "DFNmPxekoWEK"
      },
      "execution_count": null,
      "outputs": []
    },
    {
      "cell_type": "code",
      "source": [
        "mushroom.mine(threshold=0.9)\n",
        "mushroom.count_frequent_pattern()"
      ],
      "metadata": {
        "id": "gq_yH7OTp5Vr",
        "colab": {
          "base_uri": "https://localhost:8080/"
        },
        "outputId": "ce8b8826-218e-4fba-e430-80f89355cf7d"
      },
      "execution_count": null,
      "outputs": [
        {
          "output_type": "stream",
          "name": "stdout",
          "text": [
            "total transactions 8124\n",
            "threshold 7312\n",
            "\n",
            "completed in 0.05096316337585449 secs\n",
            "\n",
            "lengthwise frequent pattern count for threshold 7312\n",
            "length 1 : 4\n",
            "length 2 : 4\n",
            "length 3 : 1\n"
          ]
        }
      ]
    },
    {
      "cell_type": "code",
      "source": [
        "mushroom.mine(threshold=0.8)\n",
        "mushroom.count_frequent_pattern()"
      ],
      "metadata": {
        "id": "Ro6YVcwAp5Vs",
        "colab": {
          "base_uri": "https://localhost:8080/"
        },
        "outputId": "85608804-2d7d-4ac2-8878-1f141fa6d3f8"
      },
      "execution_count": null,
      "outputs": [
        {
          "output_type": "stream",
          "name": "stdout",
          "text": [
            "total transactions 8124\n",
            "threshold 6500\n",
            "\n",
            "completed in 0.13865876197814941 secs\n",
            "\n",
            "lengthwise frequent pattern count for threshold 6500\n",
            "length 1 : 5\n",
            "length 2 : 9\n",
            "length 3 : 7\n",
            "length 4 : 2\n"
          ]
        }
      ]
    },
    {
      "cell_type": "code",
      "source": [
        "mushroom.mine(threshold=0.7)\n",
        "mushroom.count_frequent_pattern()"
      ],
      "metadata": {
        "id": "pbt_Nxsjp5Vs",
        "colab": {
          "base_uri": "https://localhost:8080/"
        },
        "outputId": "cdc7516f-52f0-40d7-e6c7-91baf54ea67d"
      },
      "execution_count": null,
      "outputs": [
        {
          "output_type": "stream",
          "name": "stdout",
          "text": [
            "total transactions 8124\n",
            "threshold 5687\n",
            "\n",
            "completed in 0.16063976287841797 secs\n",
            "\n",
            "lengthwise frequent pattern count for threshold 5687\n",
            "length 1 : 5\n",
            "length 2 : 10\n",
            "length 3 : 10\n",
            "length 4 : 5\n",
            "length 5 : 1\n"
          ]
        }
      ]
    },
    {
      "cell_type": "code",
      "source": [
        "mushroom.mine(threshold=0.6)\n",
        "mushroom.count_frequent_pattern()"
      ],
      "metadata": {
        "id": "8Z6TTPWDp5Vs",
        "colab": {
          "base_uri": "https://localhost:8080/"
        },
        "outputId": "e9ff454a-1185-4577-eaa6-2073e6c24f15"
      },
      "execution_count": null,
      "outputs": [
        {
          "output_type": "stream",
          "name": "stdout",
          "text": [
            "total transactions 8124\n",
            "threshold 4875\n",
            "\n",
            "completed in 0.29703569412231445 secs\n",
            "\n",
            "lengthwise frequent pattern count for threshold 4875\n",
            "length 1 : 8\n",
            "length 2 : 18\n",
            "length 3 : 17\n",
            "length 4 : 7\n",
            "length 5 : 1\n"
          ]
        }
      ]
    },
    {
      "cell_type": "markdown",
      "source": [
        "###plot"
      ],
      "metadata": {
        "id": "kClyJi9FG8Ba"
      }
    },
    {
      "cell_type": "code",
      "source": [
        "import matplotlib.pyplot as plt\n",
        "import numpy as np\n",
        "\n",
        "# Data for frequent pattern counts at different threshold percentages\n",
        "thresholds = [90, 80, 70, 60]\n",
        "max_length = 5  # Maximum pattern length\n",
        "lengths = list(range(1, max_length + 1))\n",
        "\n",
        "frequent_pattern_counts = {\n",
        "    90: [4, 4, 1, 0, 0],  # Fill with zeros for missing lengths\n",
        "    80: [5, 9, 7, 2, 0],  # Fill with zeros for missing lengths\n",
        "    70: [5, 10, 10, 5, 1],\n",
        "    60: [8, 18, 17, 7, 1]\n",
        "}\n",
        "\n",
        "# Fill up the lists with zeros to match the maximum length\n",
        "for threshold in thresholds:\n",
        "    while len(frequent_pattern_counts[threshold]) < max_length:\n",
        "        frequent_pattern_counts[threshold].append(0)\n",
        "\n",
        "# Create a bar plot\n",
        "bar_width = 0.2\n",
        "index = np.arange(max_length)\n",
        "colors = ['b', 'g', 'r', 'c']\n",
        "\n",
        "plt.figure(figsize=(12, 6))\n",
        "\n",
        "for i, threshold in enumerate(thresholds):\n",
        "    plt.bar(index + i * bar_width, frequent_pattern_counts[threshold], bar_width, label=f\"{threshold}%\", color=colors[i])\n",
        "\n",
        "plt.xlabel(\"Pattern Length\")\n",
        "plt.ylabel(\"Frequent Pattern Count\")\n",
        "plt.title(\"Frequent Pattern Count vs. Pattern Length for Different Threshold Percentages (Mushroom Dataset)\")\n",
        "plt.xticks(index + bar_width * (len(thresholds) - 1) / 2, lengths)\n",
        "plt.legend(title=\"Threshold\")\n",
        "plt.grid(axis='y', linestyle='--', alpha=0.7)\n",
        "\n",
        "plt.show()\n"
      ],
      "metadata": {
        "colab": {
          "base_uri": "https://localhost:8080/",
          "height": 564
        },
        "id": "jpNEkls7G7da",
        "outputId": "a45d1677-7460-4c71-fbf7-b9bdcea24294"
      },
      "execution_count": null,
      "outputs": [
        {
          "output_type": "display_data",
          "data": {
            "text/plain": [
              "<Figure size 1200x600 with 1 Axes>"
            ],
            "image/png": "[encoded data removed]"
          },
          "metadata": {}
        }
      ]
    }
  ]
}